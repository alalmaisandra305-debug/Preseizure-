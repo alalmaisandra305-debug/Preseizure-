{
  "cells": [
    {
      "cell_type": "markdown",
      "metadata": {},
      "source": [
        "# PreSeizure Project \u2014 CHB-MIT Loader\n",
        "\n",
        "This Colab-ready notebook downloads a small subset of the CHB-MIT EEG dataset from PhysioNet and loads an EDF file with `wfdb`. Upload this notebook to Google Colab (`File \u2192 Upload notebook`) or open it in Colab directly after downloading.\n",
        "\n",
        "\u26a0\ufe0f Note: the full CHB-MIT dataset is large (~4 GB). This notebook downloads only a few example files (safe for Colab). If you want the full dataset, mount Google Drive and store files there."
      ]
    },
    {
      "cell_type": "code",
      "execution_count": null,
      "metadata": {},
      "outputs": [],
      "source": [
        "# =====================================\n",
        "# PreSeizure Project - CHB-MIT Loader\n",
        "# =====================================\n",
        "\n",
        "# Step 1. Install required libraries\n",
        "!pip install --quiet wfdb neurokit2\n",
        "\n",
        "# Step 2. Imports\n",
        "import os\n",
        "import requests\n",
        "import wfdb\n",
        "\n",
        "# Step 3. Create dataset folder\n",
        "os.makedirs(\"CHBMIT_dataset\", exist_ok=True)\n",
        "\n",
        "# Step 4. Define PhysioNet base URL\n",
        "base_url = \"https://physionet.org/content/chbmit/1.0.0/\"\n",
        "\n",
        "# Step 5. Download a few example files (safe for Colab)\n",
        "patients = [\"chb01\", \"chb02\"]\n",
        "sessions = [\"01\", \"02\", \"03\"]\n",
        "\n",
        "downloaded_files = []\n",
        "\n",
        "for patient in patients:\n",
        "    for sess in sessions:\n",
        "        file_rel = f\"{patient}/{patient}_{sess}.edf\"\n",
        "        file_url = base_url + file_rel\n",
        "        local_file = os.path.join(\"CHBMIT_dataset\", os.path.basename(file_rel))\n",
        "\n",
        "        if not os.path.exists(local_file):\n",
        "            try:\n",
        "                print(\"Downloading:\", file_url)\n",
        "                r = requests.get(file_url, stream=True)\n",
        "                r.raise_for_status()\n",
        "                with open(local_file, \"wb\") as f:\n",
        "                    for chunk in r.iter_content(1024 * 1024):\n",
        "                        f.write(chunk)\n",
        "                print(\"\u2705 Saved to\", local_file)\n",
        "            except Exception as e:\n",
        "                print(\"\u26a0\ufe0f Skipped:\", file_url, \"| Error:\", e)\n",
        "                continue\n",
        "        else:\n",
        "            print(\"Already exists:\", local_file)\n",
        "\n",
        "        downloaded_files.append(local_file)\n",
        "\n",
        "print(\"\\nDownloaded files:\", downloaded_files)\n",
        "\n",
        "# Step 6. Load one file with wfdb\n",
        "if downloaded_files:\n",
        "    record = wfdb.rdrecord(downloaded_files[0])\n",
        "    print(\"\\nChannels:\", record.sig_name)\n",
        "    print(\"Signal shape:\", record.p_signal.shape)\n",
        "else:\n",
        "    print(\"No files downloaded. Check connection or file paths.\")\n"
      ]
    }
  ],
  "metadata": {
    "kernelspec": {
      "display_name": "Python 3",
      "language": "python",
      "name": "python3"
    },
    "language_info": {
      "name": "python",
      "version": "3.10"
    }
  },
  "nbformat": 4,
  "nbformat_minor": 5
}